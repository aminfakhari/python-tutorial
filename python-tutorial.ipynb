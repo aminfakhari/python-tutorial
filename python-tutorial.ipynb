{
 "cells": [
  {
   "cell_type": "markdown",
   "metadata": {},
   "source": [
    "# A Concise Tutorial on NumPy, SciPy, SymPy, and Matplotlib\n",
    "\n",
    "To install NumPy, SciPy, SymPy, and Matplotlib packages together in Python, open your terminal or command prompt and execute the following installation command:\n",
    "```\n",
    "pip install numpy scipy sympy matplotlib\n",
    "```\n",
    "Run each cell in sequence to learn and practice."
   ]
  },
  {
   "cell_type": "markdown",
   "id": "c28d258a",
   "metadata": {},
   "source": [
    "---\n",
    "## NumPy"
   ]
  },
  {
   "cell_type": "code",
   "execution_count": 44,
   "metadata": {},
   "outputs": [],
   "source": [
    "import numpy as np"
   ]
  },
  {
   "cell_type": "markdown",
   "metadata": {},
   "source": [
    "\n",
    "### 1. Creating Arrays"
   ]
  },
  {
   "cell_type": "code",
   "execution_count": null,
   "metadata": {},
   "outputs": [
    {
     "name": "stdout",
     "output_type": "stream",
     "text": [
      "Array from list: [1 2 3 4]\n",
      "2D Array:\n",
      " [[1 2]\n",
      " [3 4]]\n"
     ]
    }
   ],
   "source": [
    "# Array or list\n",
    "arr1 = np.array([1, 2, 3, 4])\n",
    "print(\"Array from list:\", arr1) # This is neither a row vector nor a column vector!\n",
    "\n",
    "# Matix or Multi-dimensional array\n",
    "arr2 = np.array([[1, 2], [3, 4]])\n",
    "print(\"2D Array:\\n\", arr2)\n",
    "\n",
    "# Predefined arrays\n",
    "zeros = np.zeros((2,3))\n",
    "ones = np.ones((3,3))\n",
    "identity = np.eye(3)\n",
    "\n",
    "# Range and linspace\n",
    "arange_arr = np.arange(0, 10, 2)\n",
    "linspace_arr = np.linspace(0, 1, 5)\n",
    "\n",
    "# Random arrays\n",
    "rand_arr = np.random.rand(2,2)\n",
    "randn_arr = np.random.randn(2,2)"
   ]
  },
  {
   "cell_type": "markdown",
   "metadata": {},
   "source": [
    "### 2. Array Properties"
   ]
  },
  {
   "cell_type": "code",
   "execution_count": 46,
   "metadata": {},
   "outputs": [
    {
     "name": "stdout",
     "output_type": "stream",
     "text": [
      "Shape: (2, 2)\n",
      "Dimensions: 2\n",
      "Size (total elements): 4\n",
      "Data type: int64\n"
     ]
    }
   ],
   "source": [
    "print(\"Shape:\", arr2.shape)\n",
    "print(\"Dimensions:\", arr2.ndim)\n",
    "print(\"Size (total elements):\", arr2.size)\n",
    "print(\"Data type:\", arr2.dtype)"
   ]
  },
  {
   "cell_type": "markdown",
   "id": "cc3cbccf",
   "metadata": {},
   "source": [
    "### 7. Reshaping and Stacking"
   ]
  },
  {
   "cell_type": "code",
   "execution_count": null,
   "id": "afe5af7d",
   "metadata": {},
   "outputs": [
    {
     "name": "stdout",
     "output_type": "stream",
     "text": [
      "Original: [1 2 3 4 5 6]\n",
      "Reshaped to 2x3:\n",
      " [[1 2 3]\n",
      " [4 5 6]]\n",
      "Vertical stack:\n",
      " [[1 2 3 4]\n",
      " [1 2 3 4]]\n",
      "Horizontal stack:\n",
      " [1 2 3 4 1 2 3 4]\n"
     ]
    }
   ],
   "source": [
    "arr = np.arange(1, 7)\n",
    "print(\"Original:\", arr)\n",
    "\n",
    "reshaped = arr.reshape(2,3)\n",
    "print(\"Reshaped to 2x3:\\n\", reshaped)\n",
    "\n",
    "# Column Vector\n",
    "colVec = np.array([[1], [2], [3], [4]])\n",
    "# or\n",
    "colVecb = np.array([1, 2, 3, 4]).reshape(-1,1)\n",
    "print(\"Column Vector 4x1:\\n\", colVec)\n",
    "\n",
    "# Row Vector\n",
    "rowVec = np.array([[1, 2, 3, 4]])\n",
    "# or\n",
    "rowVec = np.array([1, 2, 3, 4]).reshape(1,-1)\n",
    "print(\"Row Vector 1x4:\\n\", rowVec)\n",
    "\n",
    "# Stacking\n",
    "vstacked = np.vstack([arr1, arr1])\n",
    "hstacked = np.hstack([arr1, arr1])\n",
    "\n",
    "print(\"Vertical stack:\\n\", vstacked)\n",
    "print(\"Horizontal stack:\\n\", hstacked)\n"
   ]
  },
  {
   "cell_type": "markdown",
   "metadata": {},
   "source": [
    "### 3. Indexing and Slicing"
   ]
  },
  {
   "cell_type": "code",
   "execution_count": 47,
   "metadata": {},
   "outputs": [
    {
     "name": "stdout",
     "output_type": "stream",
     "text": [
      "A: \n",
      " [[10 20 30]\n",
      " [40 50 60]\n",
      " [70 80 90]]\n",
      "Element at (1,2): 60\n",
      "First row: [10 20 30]\n",
      "Last column: [30 60 90]\n",
      "Submatrix:\n",
      " [[20 30]\n",
      " [50 60]]\n",
      "Elements > 50: [60 70 80 90]\n"
     ]
    }
   ],
   "source": [
    "A = np.array([[10,20,30],[40,50,60],[70,80,90]])\n",
    "print(\"A: \\n\", A)\n",
    "print(\"Element at (1,2):\", A[1,2])\n",
    "print(\"First row:\", A[0])\n",
    "print(\"Last column:\", A[:, -1])\n",
    "print(\"Submatrix:\\n\", A[0:2, 1:3])\n",
    "\n",
    "# Boolean indexing\n",
    "mask = A > 50\n",
    "print(\"Elements > 50:\", A[mask])"
   ]
  },
  {
   "cell_type": "markdown",
   "metadata": {},
   "source": [
    "### 4. Array Operations"
   ]
  },
  {
   "cell_type": "code",
   "execution_count": 48,
   "metadata": {},
   "outputs": [
    {
     "name": "stdout",
     "output_type": "stream",
     "text": [
      "Addition: [5 7 9]\n",
      "Multiplication: [ 4 10 18]\n",
      "Dot product: 32\n",
      "Cross product: [-3  6 -3]\n",
      "Broadcasted sum:\n",
      " [[11 21 31]\n",
      " [12 22 32]\n",
      " [13 23 33]]\n"
     ]
    }
   ],
   "source": [
    "x = np.array([1,2,3])\n",
    "y = np.array([4,5,6])\n",
    "\n",
    "print(\"Addition:\", x + y)\n",
    "print(\"Multiplication:\", x * y)\n",
    "print(\"Dot product:\", np.dot(x,y))\n",
    "print(\"Cross product:\", np.cross(x,y))\n",
    "\n",
    "# Broadcasting\n",
    "a = np.array([[1],[2],[3]])\n",
    "b = np.array([10,20,30])\n",
    "print(\"Broadcasted sum:\\n\", a + b)"
   ]
  },
  {
   "cell_type": "markdown",
   "metadata": {},
   "source": [
    "### 5. Useful Mathematical Functions"
   ]
  },
  {
   "cell_type": "code",
   "execution_count": 49,
   "metadata": {},
   "outputs": [
    {
     "name": "stdout",
     "output_type": "stream",
     "text": [
      "Mean: 3.0\n",
      "Standard deviation: 1.4142135623730951\n",
      "Sum: 15\n",
      "Cumulative sum: [ 1  3  6 10 15]\n",
      "Max: 5  at index 4\n",
      "Min: 1  at index 0\n"
     ]
    }
   ],
   "source": [
    "arr = np.array([1,2,3,4,5])\n",
    "print(\"Mean:\", np.mean(arr))\n",
    "print(\"Standard deviation:\", np.std(arr))\n",
    "print(\"Sum:\", np.sum(arr))\n",
    "print(\"Cumulative sum:\", np.cumsum(arr))\n",
    "print(\"Max:\", np.max(arr), \" at index\", np.argmax(arr))\n",
    "print(\"Min:\", np.min(arr), \" at index\", np.argmin(arr))"
   ]
  },
  {
   "cell_type": "markdown",
   "metadata": {},
   "source": [
    "### 6. Linear Algebra"
   ]
  },
  {
   "cell_type": "code",
   "execution_count": 50,
   "metadata": {},
   "outputs": [
    {
     "name": "stdout",
     "output_type": "stream",
     "text": [
      "Matrix product:\n",
      " [[19 22]\n",
      " [43 50]]\n",
      "Transpose:\n",
      " [[1 3]\n",
      " [2 4]]\n",
      "Determinant: -2.0000000000000004\n",
      "Inverse:\n",
      " [[-2.   1. ]\n",
      " [ 1.5 -0.5]]\n",
      "Eigenvalues: [-0.37228132  5.37228132]\n",
      "Eigenvectors:\n",
      " [[-0.82456484 -0.41597356]\n",
      " [ 0.56576746 -0.90937671]]\n",
      "Solution to Ax=b: [2. 3.]\n"
     ]
    }
   ],
   "source": [
    "M = np.array([[1,2],[3,4]])\n",
    "N = np.array([[5,6],[7,8]])\n",
    "\n",
    "print(\"Matrix product:\\n\", np.matmul(M,N))\n",
    "print(\"Transpose:\\n\", M.T)\n",
    "print(\"Determinant:\", np.linalg.det(M))\n",
    "print(\"Inverse:\\n\", np.linalg.inv(M))\n",
    "\n",
    "# Eigenvalues and eigenvectors\n",
    "eigvals, eigvecs = np.linalg.eig(M)\n",
    "print(\"Eigenvalues:\", eigvals)\n",
    "print(\"Eigenvectors:\\n\", eigvecs)\n",
    "\n",
    "# Solve linear system Ax = b\n",
    "A = np.array([[3,1],[1,2]])\n",
    "b = np.array([9,8])\n",
    "x = np.linalg.solve(A,b)\n",
    "print(\"Solution to Ax=b:\", x)"
   ]
  },
  {
   "cell_type": "markdown",
   "id": "14cb80d1",
   "metadata": {},
   "source": [
    "---\n",
    "## SciPy"
   ]
  },
  {
   "cell_type": "code",
   "execution_count": null,
   "id": "448f72c2",
   "metadata": {},
   "outputs": [],
   "source": [
    "import numpy as np\n",
    "from scipy import linalg, integrate, optimize, interpolate"
   ]
  },
  {
   "cell_type": "markdown",
   "id": "22d4d583",
   "metadata": {},
   "source": [
    "### 1. Linear Algebra"
   ]
  },
  {
   "cell_type": "code",
   "execution_count": 53,
   "id": "9d9ac576",
   "metadata": {},
   "outputs": [
    {
     "name": "stdout",
     "output_type": "stream",
     "text": [
      "Solution to Ax=b: [0.8 2.3]\n",
      "Determinant: 10.0\n",
      "Inverse:\n",
      " [[ 0.4 -0.2]\n",
      " [-0.1  0.3]]\n",
      "Eigenvalues: [2.+0.j 5.+0.j]\n",
      "Eigenvectors:\n",
      " [[-0.89442719 -0.70710678]\n",
      " [ 0.4472136  -0.70710678]]\n"
     ]
    }
   ],
   "source": [
    "A = np.array([[3, 2], [1, 4]])\n",
    "b = np.array([7, 10])\n",
    "\n",
    "# Solve Ax = b\n",
    "x = linalg.solve(A, b)\n",
    "print(\"Solution to Ax=b:\", x)\n",
    "\n",
    "# Determinant and inverse\n",
    "print(\"Determinant:\", linalg.det(A))\n",
    "print(\"Inverse:\\n\", linalg.inv(A))\n",
    "\n",
    "# Eigenvalues and eigenvectors\n",
    "eigvals, eigvecs = linalg.eig(A)\n",
    "print(\"Eigenvalues:\", eigvals)\n",
    "print(\"Eigenvectors:\\n\", eigvecs)"
   ]
  },
  {
   "cell_type": "markdown",
   "id": "4f168072",
   "metadata": {},
   "source": [
    "### 2. Integration"
   ]
  },
  {
   "cell_type": "code",
   "execution_count": 54,
   "id": "47f285e5",
   "metadata": {},
   "outputs": [
    {
     "name": "stdout",
     "output_type": "stream",
     "text": [
      "Integral of x^2 from 0 to 1: 0.33333333333333337\n"
     ]
    }
   ],
   "source": [
    "# Definite integral of f(x) = x^2 from 0 to 1\n",
    "result, error = integrate.quad(lambda x: x**2, 0, 1)\n",
    "print(\"Integral of x^2 from 0 to 1:\", result)"
   ]
  },
  {
   "cell_type": "markdown",
   "id": "6ed0b1a1",
   "metadata": {},
   "source": [
    "### 3. Ordinary Differential Equations (ODEs)"
   ]
  },
  {
   "cell_type": "code",
   "execution_count": 55,
   "id": "20fff22d",
   "metadata": {},
   "outputs": [
    {
     "name": "stdout",
     "output_type": "stream",
     "text": [
      "ODE solution values: [1.         0.81536928 0.66454477 0.54172626 0.44194191]\n"
     ]
    }
   ],
   "source": [
    "def dydt(t, y):\n",
    "    return -2*y\n",
    "\n",
    "sol = integrate.solve_ivp(dydt, [0, 5], [1], t_eval=np.linspace(0,5,50))\n",
    "print(\"ODE solution values:\", sol.y[0][:5])  # Show first 5 values"
   ]
  },
  {
   "cell_type": "markdown",
   "id": "8f00e5e9",
   "metadata": {},
   "source": [
    "### 4. Optimization"
   ]
  },
  {
   "cell_type": "code",
   "execution_count": 56,
   "id": "cc3142a2",
   "metadata": {},
   "outputs": [
    {
     "name": "stdout",
     "output_type": "stream",
     "text": [
      "Minimum at x = 2.9999999840660854\n"
     ]
    }
   ],
   "source": [
    "# Minimize f(x) = (x-3)^2\n",
    "res = optimize.minimize(lambda x: (x-3)**2, x0=0)\n",
    "print(\"Minimum at x =\", res.x[0])"
   ]
  },
  {
   "cell_type": "markdown",
   "id": "f29578e2",
   "metadata": {},
   "source": [
    "### 5. Interpolation"
   ]
  },
  {
   "cell_type": "code",
   "execution_count": 57,
   "id": "4725ee7a",
   "metadata": {},
   "outputs": [
    {
     "name": "stdout",
     "output_type": "stream",
     "text": [
      "Interpolated value at 5.5: -0.7049859623693029\n"
     ]
    }
   ],
   "source": [
    "x = np.linspace(0, 10, 10)\n",
    "y = np.sin(x)\n",
    "f = interpolate.interp1d(x, y, kind='cubic')\n",
    "print(\"Interpolated value at 5.5:\", f(5.5))"
   ]
  },
  {
   "cell_type": "markdown",
   "id": "8624e554",
   "metadata": {},
   "source": [
    "---\n",
    "## SymPy"
   ]
  },
  {
   "cell_type": "code",
   "execution_count": 58,
   "id": "e748b2ba",
   "metadata": {},
   "outputs": [],
   "source": [
    "import sympy as sp\n",
    "sp.init_printing()  # Pretty printing"
   ]
  },
  {
   "cell_type": "markdown",
   "id": "e644da97",
   "metadata": {},
   "source": [
    "### 1. Symbols and Basic Operations"
   ]
  },
  {
   "cell_type": "code",
   "execution_count": 59,
   "id": "d038478a",
   "metadata": {},
   "outputs": [
    {
     "data": {
      "image/png": "[encoded data removed]",
      "text/latex": [
       "$\\displaystyle x^{2} + 2 x y + y^{2}$"
      ],
      "text/plain": [
       " 2            2\n",
       "x  + 2⋅x⋅y + y "
      ]
     },
     "execution_count": 59,
     "metadata": {},
     "output_type": "execute_result"
    }
   ],
   "source": [
    "x, y = sp.symbols('x y')\n",
    "expr = x**2 + 2*x*y + y**2\n",
    "expr"
   ]
  },
  {
   "cell_type": "markdown",
   "id": "b0e0ecd4",
   "metadata": {},
   "source": [
    "### 2. Simplification and Expansion"
   ]
  },
  {
   "cell_type": "code",
   "execution_count": 60,
   "id": "20614c25",
   "metadata": {},
   "outputs": [
    {
     "data": {
      "image/png": "[encoded data removed]",
      "text/latex": [
       "$\\displaystyle \\left( x^{3} + 3 x^{2} y + 3 x y^{2} + y^{3}, \\  x + 1\\right)$"
      ],
      "text/plain": [
       "⎛ 3      2          2    3       ⎞\n",
       "⎝x  + 3⋅x ⋅y + 3⋅x⋅y  + y , x + 1⎠"
      ]
     },
     "execution_count": 60,
     "metadata": {},
     "output_type": "execute_result"
    }
   ],
   "source": [
    "expanded = sp.expand((x + y)**3)\n",
    "simplified = sp.simplify((x**2 + 2*x + 1)/(x+1))\n",
    "expanded, simplified"
   ]
  },
  {
   "cell_type": "markdown",
   "id": "30d7cb30",
   "metadata": {},
   "source": [
    "### 3. Solving Equations"
   ]
  },
  {
   "cell_type": "code",
   "execution_count": 61,
   "id": "d5398cef",
   "metadata": {},
   "outputs": [
    {
     "data": {
      "image/png": "[encoded data removed]",
      "text/latex": [
       "$\\displaystyle \\left[ -2, \\  2\\right]$"
      ],
      "text/plain": [
       "[-2, 2]"
      ]
     },
     "execution_count": 61,
     "metadata": {},
     "output_type": "execute_result"
    }
   ],
   "source": [
    "solution = sp.solve(x**2 - 4, x)\n",
    "solution"
   ]
  },
  {
   "cell_type": "markdown",
   "id": "02979849",
   "metadata": {},
   "source": [
    "### 4. Calculus (Differentiation and Integration)"
   ]
  },
  {
   "cell_type": "code",
   "execution_count": null,
   "id": "e769edaa",
   "metadata": {},
   "outputs": [
    {
     "data": {
      "image/png": "[encoded data removed]",
      "text/latex": [
       "$\\displaystyle \\left( e^{x} \\sin{\\left(x \\right)} + e^{x} \\cos{\\left(x \\right)}, \\  \\frac{e^{x} \\sin{\\left(x \\right)}}{2} - \\frac{e^{x} \\cos{\\left(x \\right)}}{2}\\right)$"
      ],
      "text/plain": [
       "⎛                        x           x       ⎞\n",
       "⎜ x           x         ℯ ⋅sin(x)   ℯ ⋅cos(x)⎟\n",
       "⎜ℯ ⋅sin(x) + ℯ ⋅cos(x), ───────── - ─────────⎟\n",
       "⎝                           2           2    ⎠"
      ]
     },
     "execution_count": 62,
     "metadata": {},
     "output_type": "execute_result"
    }
   ],
   "source": [
    "f = sp.sin(x) * sp.exp(x)\n",
    "derivative = sp.diff(f, x)\n",
    "integral = sp.integrate(f, x)\n",
    "derivative, integral"
   ]
  },
  {
   "cell_type": "markdown",
   "id": "f664c8ce",
   "metadata": {},
   "source": [
    "### 5. Linear Algebra"
   ]
  },
  {
   "cell_type": "code",
   "execution_count": 64,
   "id": "e04f776b",
   "metadata": {},
   "outputs": [
    {
     "data": {
      "image/png": "[encoded data removed]",
      "text/latex": [
       "$\\displaystyle \\left( -2, \\  \\left[\\begin{matrix}-2 & 1\\\\\\frac{3}{2} & - \\frac{1}{2}\\end{matrix}\\right], \\  \\left\\{ \\frac{5}{2} - \\frac{\\sqrt{33}}{2} : 1, \\  \\frac{5}{2} + \\frac{\\sqrt{33}}{2} : 1\\right\\}\\right)$"
      ],
      "text/plain": [
       "⎛    ⎡-2    1  ⎤  ⎧5   √33     5   √33   ⎫⎞\n",
       "⎜-2, ⎢         ⎥, ⎨─ - ───: 1, ─ + ───: 1⎬⎟\n",
       "⎝    ⎣3/2  -1/2⎦  ⎩2    2      2    2    ⎭⎠"
      ]
     },
     "execution_count": 64,
     "metadata": {},
     "output_type": "execute_result"
    }
   ],
   "source": [
    "M = sp.Matrix([[1, 2], [3, 4]])\n",
    "M_det = M.det()\n",
    "M_inv = M.inv()\n",
    "M_eigs = M.eigenvals()\n",
    "M_det, M_inv, M_eigs"
   ]
  },
  {
   "cell_type": "markdown",
   "id": "6e2015fe",
   "metadata": {},
   "source": [
    "### 6. Differential Equations"
   ]
  },
  {
   "cell_type": "code",
   "execution_count": 68,
   "id": "7017825f",
   "metadata": {},
   "outputs": [
    {
     "data": {
      "image/png": "[encoded data removed]",
      "text/latex": [
       "$\\displaystyle f{\\left(x \\right)} = \\left(C_{1} + C_{2} x\\right) e^{x}$"
      ],
      "text/plain": [
       "                    x\n",
       "f(x) = (C₁ + C₂⋅x)⋅ℯ "
      ]
     },
     "execution_count": 68,
     "metadata": {},
     "output_type": "execute_result"
    }
   ],
   "source": [
    "f = sp.Function('f')\n",
    "ode = sp.Eq(f(x).diff(x,2) - 2*f(x).diff(x) + f(x), 0)\n",
    "dsolve_sol = sp.dsolve(ode)\n",
    "dsolve_sol"
   ]
  }
 ],
 "metadata": {
  "kernelspec": {
   "display_name": "Python 3",
   "language": "python",
   "name": "python3"
  },
  "language_info": {
   "codemirror_mode": {
    "name": "ipython",
    "version": 3
   },
   "file_extension": ".py",
   "mimetype": "text/x-python",
   "name": "python",
   "nbconvert_exporter": "python",
   "pygments_lexer": "ipython3",
   "version": "3.12.10"
  }
 },
 "nbformat": 4,
 "nbformat_minor": 5
}
